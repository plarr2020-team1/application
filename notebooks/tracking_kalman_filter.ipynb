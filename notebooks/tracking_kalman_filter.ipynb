{
 "cells": [
  {
   "cell_type": "code",
   "execution_count": 1,
   "metadata": {},
   "outputs": [],
   "source": [
    "import sys\n",
    "\n",
    "sys.path.append('../tools/')\n",
    "\n",
    "from monodepth2.infer import load_model\n",
    "from tracktor_utils import tracker_obj\n",
    "from tracktor.utils import interpolate\n",
    "from torchvision.transforms import ToTensor, Compose, Resize, ToPILImage\n",
    "\n",
    "from monodepth2.infer import infer_depth as monodepth_infer\n",
    "from statsmodels.nonparametric.kernel_regression import KernelReg\n",
    "from scipy.signal import savgol_filter\n",
    "\n",
    "import cv2\n",
    "import torch\n",
    "import numpy as np\n",
    "from PIL import Image\n",
    "\n",
    "import matplotlib.pyplot as plt\n",
    "\n",
    "%matplotlib inline"
   ]
  },
  {
   "cell_type": "code",
   "execution_count": 2,
   "metadata": {},
   "outputs": [],
   "source": [
    "def kalmanfilter(x,p,z,r):\n",
    "    # p - estimate unceratininty \n",
    "    # r - measurement unceratininty ( σ2 )  \n",
    "    # z - Measured System State\n",
    "\n",
    "    # Kalman gain calculation\n",
    "    K =  p/(p+r)\n",
    "    # estimate current state\n",
    "    x1 = x + K*(z-x)\n",
    "    # update current estimate uncertainity\n",
    "    p1 = (1-K)*p\n",
    "\n",
    "    return (x1,p1)"
   ]
  },
  {
   "cell_type": "code",
   "execution_count": 3,
   "metadata": {},
   "outputs": [],
   "source": [
    "tracker = tracker_obj(\"../tracking_wo_bnw/\")\n",
    "\n",
    "tracker.reset()"
   ]
  },
  {
   "cell_type": "code",
   "execution_count": 4,
   "metadata": {},
   "outputs": [],
   "source": [
    "cap = cv2.VideoCapture('../samples/mot16.webm')"
   ]
  },
  {
   "cell_type": "code",
   "execution_count": 5,
   "metadata": {},
   "outputs": [],
   "source": [
    "depth_tracks = {}\n",
    "depth_tracks_smoothed = {}\n",
    "depth_tracks_p = {}\n",
    "\n",
    "def get_depth_and_smoothed(img, inference, tracker, depth_merger='mean'):   \n",
    "    img = cv2.cvtColor(img, cv2.COLOR_BGR2RGB)\n",
    "    img_pil = Image.fromarray(img)\n",
    "    \n",
    "    with torch.no_grad():\n",
    "        if inference['name'] == 'monodepth':\n",
    "            depth_map, depth_im = monodepth_infer(inference['encoder'],\n",
    "                                                  inference['depth_decoder'],\n",
    "                                                  inference['input_size'],\n",
    "                                                  img_pil)\n",
    "            depth_map = depth_map[0, 0] # * 5.4\n",
    "        else:  # mannequin\n",
    "            depth_map, depth_im = mannequin_infer(img_pil)\n",
    "            depth_map = (255 - depth_map) / 7\n",
    "\n",
    "        \n",
    "        transforms = Compose([\n",
    "            Resize((749, 1333)),\n",
    "            ToTensor(),\n",
    "        ])\n",
    "        frame_batch = {\n",
    "            'img': transforms(img_pil).unsqueeze(0)#.cuda()\n",
    "        }\n",
    "        tracker.step(frame_batch)\n",
    "        results = tracker.get_results()\n",
    "        results = interpolate(results)\n",
    "        for t, r in results.items():\n",
    "            x1, y1, x2, y2 = map(int, r[max(r, key=int)])\n",
    "            if (x2 - x1) * (y2 - y1) < 900:\n",
    "                continue\n",
    "            m = np.zeros_like(depth_map)\n",
    "            y1 = int(y1 * m.shape[0] / 749)\n",
    "            y2 = int(y2 * m.shape[0] / 749)\n",
    "\n",
    "            x1 = int(x1 * m.shape[1] / 1333)\n",
    "            x2 = int(x2 * m.shape[1] / 1333)\n",
    "\n",
    "            m[y1:y2, x1:x2] = 1\n",
    "            person_depth = depth_map * m\n",
    "            try:\n",
    "                if depth_merger == 'mean':\n",
    "                    avg_depth = person_depth[np.where(person_depth != 0)].mean()\n",
    "                elif depth_merger == 'median': \n",
    "                    avg_depth = np.median(person_depth[np.where(person_depth != 0)])\n",
    "                else:\n",
    "                    raise Exception(\"Undefined depth_merger error!\")\n",
    "                x, y = int((x1 + x2) / 2), int((y1 + y2) / 2)\n",
    "\n",
    "                if t not in depth_tracks:\n",
    "                    depth_tracks[t] = [avg_depth]\n",
    "                else: \n",
    "                    depth_tracks[t].append(avg_depth)\n",
    "                    \n",
    "                avg_depth_s = avg_depth\n",
    "                p = 1\n",
    "                if len(depth_tracks[t]) > 1:\n",
    "                    avg_depth_s = depth_tracks_smoothed[t][-1]\n",
    "                    p = depth_tracks_p[t][-1]\n",
    "                \n",
    "                avg_depth_s, p = kalmanfilter(avg_depth_s, p, avg_depth, 1)\n",
    "                \n",
    "                if t not in depth_tracks_smoothed:\n",
    "                    depth_tracks_smoothed[t] = [avg_depth_s]\n",
    "                else: \n",
    "                    depth_tracks_smoothed[t].append(avg_depth_s)\n",
    "                    \n",
    "                if t not in depth_tracks_p:\n",
    "                    depth_tracks_p[t] = [p]\n",
    "                else: \n",
    "                    depth_tracks_p[t].append(p)\n",
    "                \n",
    "            except ValueError as e:\n",
    "                print(e)\n",
    "                continue"
   ]
  },
  {
   "cell_type": "code",
   "execution_count": 6,
   "metadata": {},
   "outputs": [
    {
     "name": "stdout",
     "output_type": "stream",
     "text": [
      "-> Loading model from  models/mono+stereo_1024x320\n",
      "   Loading pretrained encoder\n",
      "   Loading pretrained decoder\n"
     ]
    }
   ],
   "source": [
    "inference = {'name': 'monodepth'}\n",
    "\n",
    "encoder, depth_decoder, (feed_width, feed_height) = load_model(\"mono+stereo_1024x320\")\n",
    "inference['encoder'] = encoder\n",
    "inference['depth_decoder'] = depth_decoder\n",
    "inference['input_size'] = (feed_width, feed_height)"
   ]
  },
  {
   "cell_type": "code",
   "execution_count": 7,
   "metadata": {},
   "outputs": [],
   "source": [
    "counter = 0\n",
    "while(cap.isOpened()):\n",
    "    counter += 1\n",
    "    ret, frame = cap.read()\n",
    "    get_depth_and_smoothed(frame, inference, tracker)\n",
    "    \n",
    "    if counter > 50 or not ret: \n",
    "        break\n",
    "    \n",
    "cap.release()"
   ]
  },
  {
   "cell_type": "code",
   "execution_count": 8,
   "metadata": {},
   "outputs": [],
   "source": [
    "track_id = 3"
   ]
  },
  {
   "cell_type": "code",
   "execution_count": 9,
   "metadata": {},
   "outputs": [
    {
     "data": {
      "text/plain": [
       "<matplotlib.collections.PathCollection at 0x7f7c39750438>"
      ]
     },
     "execution_count": 9,
     "metadata": {},
     "output_type": "execute_result"
    },
    {
     "data": {
      "image/png": "[encoded data removed]",
      "text/plain": [
       "<Figure size 432x288 with 1 Axes>"
      ]
     },
     "metadata": {
      "needs_background": "light"
     },
     "output_type": "display_data"
    }
   ],
   "source": [
    "plt.plot(depth_tracks_smoothed[track_id])\n",
    "plt.scatter(range(len(depth_tracks[track_id])), depth_tracks[track_id])"
   ]
  }
 ],
 "metadata": {
  "kernelspec": {
   "display_name": "Python 3.6 PLARR",
   "language": "python",
   "name": "plarr-env"
  },
  "language_info": {
   "codemirror_mode": {
    "name": "ipython",
    "version": 3
   },
   "file_extension": ".py",
   "mimetype": "text/x-python",
   "name": "python",
   "nbconvert_exporter": "python",
   "pygments_lexer": "ipython3",
   "version": "3.6.10"
  }
 },
 "nbformat": 4,
 "nbformat_minor": 4
}
