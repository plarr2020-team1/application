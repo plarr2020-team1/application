{
 "cells": [
  {
   "cell_type": "code",
   "execution_count": null,
   "metadata": {
    "scrolled": true
   },
   "outputs": [],
   "source": [
    "from human_depth_dataset.dataset import KittiHumanDepthDataset, RGBDPeopleDataset\n",
    "from evaluation_utils import get_yolact_mask, get_mannequin_depth, get_segmentation_depth_map_stats\n",
    "import pickle"
   ]
  },
  {
   "cell_type": "code",
   "execution_count": null,
   "metadata": {},
   "outputs": [],
   "source": [
    "root = '../human_depth_dataset/'"
   ]
  },
  {
   "cell_type": "markdown",
   "metadata": {},
   "source": [
    "# 1. KITTI Dataset\n",
    "Get predictions for human segmentation and depth prediction."
   ]
  },
  {
   "cell_type": "code",
   "execution_count": null,
   "metadata": {},
   "outputs": [],
   "source": [
    "scenes_filename = root + 'scenes_with_min_2_people.txt'\n",
    "data_root = root + 'data/kitti/val/'\n",
    "dataset = KittiHumanDepthDataset(scenes_filename, data_root)"
   ]
  },
  {
   "cell_type": "code",
   "execution_count": null,
   "metadata": {},
   "outputs": [],
   "source": [
    "all_yolact_masks = get_yolact_mask(dataset)\n",
    "# or place pickle file under this directory and run the following\n",
    "# with open(r\"yolact_kitti.pkl\", \"rb\") as input_file:\n",
    "#    all_yolact_masks = pickle.load(input_file)"
   ]
  },
  {
   "cell_type": "code",
   "execution_count": null,
   "metadata": {},
   "outputs": [],
   "source": [
    "all_mannequin_maps = get_mannequin_depth(dataset)  # TODO: change checkpoint_dir in infer.py"
   ]
  },
  {
   "cell_type": "markdown",
   "metadata": {},
   "source": [
    "Get statistics for following pipelines:\n",
    "1. YOLACT + Mannequin"
   ]
  },
  {
   "cell_type": "code",
   "execution_count": null,
   "metadata": {
    "scrolled": false
   },
   "outputs": [],
   "source": [
    "# Get statistics for YOLACT + Mannequin\n",
    "get_segmentation_depth_map_stats(all_yolact_masks, all_mannequin_maps, dataset)"
   ]
  }
 ],
 "metadata": {
  "kernelspec": {
   "display_name": "Python PLARR-Application",
   "language": "python",
   "name": "app-deneme"
  },
  "language_info": {
   "codemirror_mode": {
    "name": "ipython",
    "version": 3
   },
   "file_extension": ".py",
   "mimetype": "text/x-python",
   "name": "python",
   "nbconvert_exporter": "python",
   "pygments_lexer": "ipython3",
   "version": "3.8.3"
  }
 },
 "nbformat": 4,
 "nbformat_minor": 4
}
